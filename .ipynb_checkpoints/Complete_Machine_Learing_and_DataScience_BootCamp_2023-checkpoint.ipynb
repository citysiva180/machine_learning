{
 "cells": [
  {
   "cell_type": "markdown",
   "metadata": {
    "colab_type": "text",
    "id": "view-in-github"
   },
   "source": [
    "<a href=\"https://colab.research.google.com/github/citysiva180/machine_learning/blob/main/Complete_Machine_Learing_and_DataScience_BootCamp_2023.ipynb\" target=\"_parent\"><img src=\"https://colab.research.google.com/assets/colab-badge.svg\" alt=\"Open In Colab\"/></a>"
   ]
  },
  {
   "cell_type": "markdown",
   "metadata": {
    "id": "Ygpvqcv4PZkR"
   },
   "source": [
    "# SECTION - 1 : Introduction to Machine Learning\n",
    "---\n",
    "In this comprehensive course, we would be going through a n number of machine learning topics and how the ML. algorithm works. There is going to be plenty of hands on and collaboration with fellow engineers to do analytics via machine learning"
   ]
  },
  {
   "cell_type": "markdown",
   "metadata": {
    "id": "EwaCg4g1P4-D"
   },
   "source": [
    "### What is Machine Learning? \n",
    "\n",
    "Machine learning refers to a branch of artificial intelligence (AI) that involves training computer systems to automatically improve their performance on a specific task by using large amounts of data, without being explicitly programmed.\n",
    "\n"
   ]
  },
  {
   "cell_type": "markdown",
   "metadata": {
    "id": "daKr9BLiQbvx"
   },
   "source": [
    "## AI vs Machine Learning vs Data Science \n",
    "\n",
    "- **AI** - Meaning Human Intelligence recreated artificially to deliver activities done by humans. \n",
    "- **Narrow AI** - Sometimes AI could deliver better than Humans. These are Narrow AI. Narrow AI simply means it does 1 task at a time exceptionally well \n",
    "- **General AI** - An AI which could do any task superbly! The ultimate end goal of machine learning is to get to this General AI. General AI Still Does not Exists\n",
    "- **Machine Learning** - Its Subset of AI and Its an Approach to try and achieve artifical Intelligence through systems that can find patterns in a set of data. The science of getting computer to act without developing programs\n",
    "- **Deeplearning** - Its one of the technique to implement machine learning\n",
    "- **Data Science** - Its a science of Analysing Data. It overlaps with Data Science"
   ]
  },
  {
   "cell_type": "markdown",
   "metadata": {
    "id": "6LNFnoCP_BUS"
   },
   "source": [
    "## Types of Machine Learning\n",
    "\n",
    "- **Supervised**: Data is already labelled. CSV files and other organized files. Classification is easy with linear regression. A classic example is stock prices. \n",
    "- **Unsupervised** : Data which does not have label comes to unsupervised learning. Hence we give attribute points so we are able to distinguish data \n",
    "- **Reinforcement Learning:** Its all about teaching machines with trial and error by providing rewards and punishment. These include Neural Networks, Decision Trees, Vector Machines and K-Nearest Neighbours"
   ]
  },
  {
   "cell_type": "markdown",
   "metadata": {
    "id": "OBrw32iSBYNX"
   },
   "source": [
    "## Machine Learning Round 2 \n",
    "\n",
    "**How is Machine Learning different from Regular Algorithm?**\n",
    "\n",
    "In a Normal Algorithm you give the input, algorithm / steps and output so you get the desired output. Meanwhile in a machine Learning algorithm you give the ideal input and the idea output so the algorithm does the learning and identifies the best way to get the output. This trial and run happens for multiple times until the ideal output is achieve"
   ]
  },
  {
   "cell_type": "markdown",
   "metadata": {
    "id": "MlVzQsOYDuYc"
   },
   "source": [
    "# SECTION - 2 :Introduction to Machine Learning\n",
    "---\n",
    "\n",
    "- Data Collection : Collection of data\n",
    "- Data Modelling  : Creating a data and passing it to a ML model and traning it \n",
    "- Deploymentc     : Deploying the model in a cloud based environment\n",
    "\n",
    "*Mostly Machine Learning Engineers Work on Data Modelling*\n",
    "\n",
    "\n",
    "\n",
    "\n",
    "- Step - 1 : Creating a framework \n",
    "- Step - 2 : Machine the framework with an ML algorithms \n",
    "- Step - 3 : Learn "
   ]
  },
  {
   "cell_type": "markdown",
   "metadata": {
    "id": "4PjITVTrEe07"
   },
   "source": [
    "### The ML framework Used in this ZTM Course\n",
    "\n",
    "To ensure we are learning deep in machine learning please find the \n",
    "detailed steps we should follow to learn / build ML models \n",
    "\n",
    "1. **Problem Definition**:  What is the problem and the reason for approaching ML for it? What algorithm should be used to make this problem resolved? These are the kinds of attributes which come in this problem definition\n",
    "\n",
    "2. **Data** : Data becomes the requirement for machine learning. Now there are different types of data, which could be structured or unstructured. Once we know which data to use, we could proceed with evaluation\n",
    "\n",
    "3. **Evaluation** : We evaluate if the data is fit for our purpose. We also identify if the data brings the outcome expected for us. \n",
    "  \n",
    "4. **Features** : What is known is considered a feature. For example, in case of predicting heart disease body weight becomes and attribute to decide. This is numerical in nature. Hence it comes numerical feature to evaluate heart disease. Similar to weight, blood pressure and other Numerical features could be used to identify patterns of occurance which will help in predicting values\n",
    "\n",
    "5. **Modelling** : Based on our problem, we choose the modelling. Modelling directly talks about ML models. In most cases the model is already built and sometimes you get pre-trained ML models which will predict data for you. So the idea is to choose the right model \n",
    "\n",
    "6. **Experimentation** : How could we improve this model to deliver better results to us? By experimenting with the ML model we could identify insights which would help us on the longer run!\n"
   ]
  },
  {
   "cell_type": "markdown",
   "metadata": {
    "id": "2qVZSL6XJx1S"
   },
   "source": [
    "## Deep diving into these Individual Steps! \n",
    "\n",
    "**Remember:** Machine learning is not the solution for everything!\n",
    "\n",
    "Some important points you need to know about supervised learning \n",
    "\n",
    "**Supervised Learning Types**\n",
    "\n",
    "- Labels help in correct the incorrect output of the algorithm\n",
    "- This act of correction by itself is called the supervised learning.\n",
    "- The Main Types of Supervised learning include \n",
    "    - **Regression** : Regression is basically predicting continous values. There is no categorical classification in this. Its prediction based on existing values.    \n",
    "    - **Classification** : Its basically deciding a value based on a category. If there are 2 values, then its a binary classification. If there are more than 2 values then its a Multi-class classification\n",
    "\n",
    "**Unsupervised Learning** : In Unsupervised Machine Learning you label the data. And the pattern is identified by the Machine Learning Algorithms. Now this algorithm or this learning will predict data based on what is already exists. \n",
    "\n",
    "**Transfer learning** : Its one machine learning model learning from another machine learning model. For this.. You use a model that has the knowledge previously in this case.  \n",
    "\n",
    "**Reinforced Learning** : Keeping score points and updating as +1 or -1 on successfull and failed outcomes. This forms a reward and punishment based system to narrow down on a ideal output\n"
   ]
  },
  {
   "cell_type": "markdown",
   "metadata": {
    "id": "w_ogYzYFcrB0"
   },
   "source": [
    "## Types Of Data\n",
    "\n",
    "The very basic types of Data are \n",
    "- Structured  - Comes in a structure like tables of rows and columns\n",
    "- Unstructured Data - Could be random like a picture, or a video \n",
    "\n",
    "Both Structured and Unstructured datas have \n",
    "- Static Data  - Finite data | Does not changes with time \n",
    "- Streaming Data - Continual data | Changes over time "
   ]
  },
  {
   "cell_type": "markdown",
   "metadata": {
    "id": "P98x4ilGg92H"
   },
   "source": [
    "## Types of Evaluation\n",
    "\n",
    "Classification\n",
    "\n",
    "  - Accuracy \n",
    "  - Precision\n",
    "  - Recall\n",
    "\n",
    "Regression\n",
    "\n",
    "  - Mean Absolute Error \n",
    "  - Mean Squared Error \n",
    "  - Root Mean Squared Error \n",
    "\n",
    "Recommendation\n",
    "\n",
    "  - Mean Squares K"
   ]
  },
  {
   "cell_type": "markdown",
   "metadata": {
    "id": "CQEx2frwi7Ef"
   },
   "source": [
    "## Features in Machine Learning\n",
    "\n",
    "\n",
    "Attributes of data which are used to decide on prediction are the features of the data. Features could be categorical or numerical.\n",
    "\n",
    "- **Categorical**: Could be binary or Multi Category but its simply the classification of data into a certain goal \n",
    "- **Numerical** : Data is number based and could be easily used to bring out metrics of the data and even be used to predict number values\n",
    "- **Derived** : You gain data by the use of 2 data. \n",
    "\n",
    "Feature Covered : Assuming that you take a big data sample, if the sample values are all the same then its an ideal sample. In a mixture of data "
   ]
  },
  {
   "cell_type": "markdown",
   "metadata": {
    "id": "Ine2UACLVbNi"
   },
   "source": [
    "## Data Modelling\n",
    "\n",
    "Steps to data modelling is ... \n",
    "\n",
    "1. Choosing and traning a model \n",
    "2. Tuning a model \n",
    "3. Model Comparision \n",
    "\n",
    "The concepts of Machine Learning includes. Helps in ensuring that the learning is correct!\n",
    "\n",
    "-- Selection of Model -->\n",
    "1. The Training -- post --> Tuning \n",
    "2. The validation \n",
    "3. The Test Sets --> Do Model Comparision\n",
    "\n"
   ]
  },
  {
   "cell_type": "markdown",
   "metadata": {
    "id": "33atoYxqv3CE"
   },
   "source": [
    "## Choosing a Model\n",
    "\n",
    "- Labelled Data - Catboost and Random Forest!\n",
    "- Unlabelled Data -  Deep learning and Transfer Learning"
   ]
  },
  {
   "cell_type": "markdown",
   "metadata": {
    "id": "7bhCDu_QwaOb"
   },
   "source": [
    "## Traning a Model \n",
    "- In Supervised Learning, use the feature variables to go ahead. Remember its important for the model to know input and output. \n",
    "- Minimize the time for training the model"
   ]
  },
  {
   "cell_type": "markdown",
   "metadata": {
    "id": "T5ohJ2TsxOq3"
   },
   "source": [
    "### Summary \n",
    "\n",
    "- Some models work better than others n a different problems \n",
    "- Don't be afraid to try new things \n",
    "- Start small and build up (add complexity) as you need. \n",
    "\n",
    "You also need to tuning model so you get more better results!"
   ]
  },
  {
   "cell_type": "markdown",
   "metadata": {
    "id": "aKcT2UiLxzuJ"
   },
   "source": []
  },
  {
   "cell_type": "markdown",
   "metadata": {
    "id": "TBPTMM0Sx1Sz"
   },
   "source": [
    "## Tuning a model\n",
    "\n",
    "- Tuning is basically improving the model to bring out best results \n",
    "- This tuning usually happens in a validation data set \n",
    "- This can also happen in a training data set \n",
    "\n",
    "### Summary\n",
    "\n",
    "- Machine Learning models have hyperparameters you can adjust \n",
    "- A Models first results aren't its last \n",
    "- Tuning can take place on training or validation data sets"
   ]
  },
  {
   "cell_type": "markdown",
   "metadata": {
    "id": "RUHAWwsv11c5"
   },
   "source": [
    "## Model Comparision"
   ]
  },
  {
   "cell_type": "markdown",
   "metadata": {
    "id": "OkgRtRi6UKFN"
   },
   "source": [
    "- Avoid over fitting and underfitting \n",
    "- Keep the test set seperate at all costs\n",
    "- Compare Apples to Apples \n",
    "- One best performence metric does not equal best model "
   ]
  },
  {
   "cell_type": "markdown",
   "metadata": {
    "id": "WEeDROAhUkPM"
   },
   "source": [
    "## Overfitting and Underfitting Definitions\n",
    "\n",
    "Before we get into the experimentation side of things, it's worth having a little reminder of overfitting and underfitting are.\n",
    "\n",
    "All experiments should be conducted on different portions of your data.\n",
    "\n",
    "Training data set — Use this set for model training, 70–80% of your data is the standard.\n",
    "\n",
    "Validation/development data set — Use this set for model hyperparameter tuning and experimentation evaluation, 10–15% of your data is the standard.\n",
    "\n",
    "Test data set — Use this set for model testing and comparison, 10–15% of your data is the standard.\n",
    "\n",
    "These amounts can fluctuate slightly, depending on your problem and the data you have.\n",
    "\n",
    "Poor performance on training data means the model hasn’t learned properly and is underfitting. Try a different model, improve the existing one through hyperparameter or collect more data.\n",
    "\n",
    "Great performance on the training data but poor performance on test data means your model doesn’t generalize well. Your model may be overfitting the training data. Try using a simpler model or making sure your the test data is of the same style your model is training on.\n",
    "\n",
    "Another form of overfitting can come in the form of better performance on test data than training data. This may mean your testing data is leaking into your training data (incorrect data splits) or you've spent too much time optimizing your model for the test set data. Ensure your training and test datasets are kept separate at all times and avoid optimizing a models performance on the test set (use the training and validation sets for model improvement).\n",
    "\n",
    "Poor performance once deployed (in the real world) means there’s a difference in what you trained and tested your model on and what is actually happening. Ensure the data you're using during experimentation matches up with the data you're using in production."
   ]
  },
  {
   "cell_type": "markdown",
   "metadata": {
    "id": "zaW8TCjV1GK3"
   },
   "source": [
    "# Section - 6 Pandas!\n",
    "\n",
    "- Only code and comments! :-)"
   ]
  },
  {
   "cell_type": "code",
   "execution_count": null,
   "metadata": {},
   "outputs": [],
   "source": [
    "!"
   ]
  },
  {
   "cell_type": "code",
   "execution_count": 3,
   "metadata": {
    "id": "X9xisAYe0cNj"
   },
   "outputs": [
    {
     "ename": "ModuleNotFoundError",
     "evalue": "No module named 'matplotlib'",
     "output_type": "error",
     "traceback": [
      "\u001b[0;31m---------------------------------------------------------------------------\u001b[0m",
      "\u001b[0;31mModuleNotFoundError\u001b[0m                       Traceback (most recent call last)",
      "Cell \u001b[0;32mIn [3], line 3\u001b[0m\n\u001b[1;32m      1\u001b[0m \u001b[38;5;66;03m# Series : \u001b[39;00m\n\u001b[1;32m      2\u001b[0m \u001b[38;5;28;01mimport\u001b[39;00m \u001b[38;5;21;01mpandas\u001b[39;00m \u001b[38;5;28;01mas\u001b[39;00m \u001b[38;5;21;01mpd\u001b[39;00m \n\u001b[0;32m----> 3\u001b[0m \u001b[38;5;28;01mimport\u001b[39;00m \u001b[38;5;21;01mmatplotlib\u001b[39;00m\u001b[38;5;21;01m.\u001b[39;00m\u001b[38;5;21;01mpyplot\u001b[39;00m \u001b[38;5;28;01mas\u001b[39;00m \u001b[38;5;21;01mplt\u001b[39;00m\n\u001b[1;32m      4\u001b[0m \u001b[38;5;28;01mimport\u001b[39;00m \u001b[38;5;21;01msklearn\u001b[39;00m\n\u001b[1;32m      5\u001b[0m \u001b[38;5;28;01mimport\u001b[39;00m \u001b[38;5;21;01mnumpy\u001b[39;00m \u001b[38;5;28;01mas\u001b[39;00m \u001b[38;5;21;01mnp\u001b[39;00m\n",
      "\u001b[0;31mModuleNotFoundError\u001b[0m: No module named 'matplotlib'"
     ]
    }
   ],
   "source": [
    "# Series : \n",
    "import pandas as pd \n",
    "import matplotlib.pyplot as plt\n",
    "import sklearn\n",
    "import numpy as np"
   ]
  },
  {
   "cell_type": "code",
   "execution_count": null,
   "metadata": {
    "colab": {
     "base_uri": "https://localhost:8080/"
    },
    "id": "hwwOonh-1eKI",
    "outputId": "8aa91d9e-27dc-4f31-a40d-3bfcad513fd1"
   },
   "outputs": [],
   "source": [
    "# Writing a series or creating a series \n",
    "\n",
    "colors = pd.Series([\"Red\",\"Green\",\"Blue\"])\n",
    "colors"
   ]
  },
  {
   "cell_type": "code",
   "execution_count": null,
   "metadata": {
    "id": "yPmkDR5j1rvT"
   },
   "outputs": [],
   "source": [
    "# Data frame. \n",
    "# Series are 1 dimensional while data frames are 2 dimensional "
   ]
  },
  {
   "cell_type": "markdown",
   "metadata": {
    "id": "NpbiuQki3zwE"
   },
   "source": [
    "Reading CSV files"
   ]
  },
  {
   "cell_type": "code",
   "execution_count": null,
   "metadata": {
    "colab": {
     "base_uri": "https://localhost:8080/",
     "height": 363
    },
    "id": "5a8WNnIv20tH",
    "outputId": "6fb162c8-117d-482e-c0a7-7caf27f8106a"
   },
   "outputs": [],
   "source": [
    "path = r\"/content/drive/MyDrive/ZTM_Folder/\"\n",
    "car_sales = pd.read_csv(path+\"car-sales.csv\")\n",
    "car_sales"
   ]
  },
  {
   "cell_type": "markdown",
   "metadata": {
    "id": "EKLXFoux3x9G"
   },
   "source": [
    "Describing Data"
   ]
  },
  {
   "cell_type": "code",
   "execution_count": null,
   "metadata": {
    "colab": {
     "base_uri": "https://localhost:8080/"
    },
    "id": "HaV3_rcf3MiD",
    "outputId": "84a8e655-5b61-407f-8d15-c2e4b4ba890b"
   },
   "outputs": [],
   "source": [
    "# Reading data from URL\n",
    "car_sales.dtypes"
   ]
  },
  {
   "cell_type": "code",
   "execution_count": null,
   "metadata": {
    "colab": {
     "base_uri": "https://localhost:8080/"
    },
    "id": "tUfKgbx2371s",
    "outputId": "53f03bce-d044-4c3c-89ef-a505ec626455"
   },
   "outputs": [],
   "source": [
    "car_sales.columns"
   ]
  },
  {
   "cell_type": "code",
   "execution_count": null,
   "metadata": {
    "colab": {
     "base_uri": "https://localhost:8080/"
    },
    "id": "5fumBWEA4AjY",
    "outputId": "0a51fd7c-7771-4b9a-b62f-ce7d295a7722"
   },
   "outputs": [],
   "source": [
    "car_sales.info()"
   ]
  },
  {
   "cell_type": "code",
   "execution_count": null,
   "metadata": {
    "colab": {
     "base_uri": "https://localhost:8080/",
     "height": 300
    },
    "id": "Cc6kyjXN4Duf",
    "outputId": "92d67da2-fc09-4d91-98ec-5a4485f3942a"
   },
   "outputs": [],
   "source": [
    "car_sales.describe()"
   ]
  },
  {
   "cell_type": "code",
   "execution_count": null,
   "metadata": {
    "colab": {
     "base_uri": "https://localhost:8080/"
    },
    "id": "aa8Z2whs4WYO",
    "outputId": "606fb5e1-5111-4f9e-9ed3-e1711f86c6c9"
   },
   "outputs": [],
   "source": [
    "car_sales.mean()"
   ]
  },
  {
   "cell_type": "code",
   "execution_count": null,
   "metadata": {
    "colab": {
     "base_uri": "https://localhost:8080/"
    },
    "id": "H2ajyWnd96i7",
    "outputId": "0523be26-b87f-47d1-d812-dbd4fe609c0f"
   },
   "outputs": [],
   "source": [
    "car_sales['Doors'].sum()"
   ]
  },
  {
   "cell_type": "code",
   "execution_count": null,
   "metadata": {
    "colab": {
     "base_uri": "https://localhost:8080/",
     "height": 206
    },
    "id": "3SBk58IP-KKq",
    "outputId": "5d002f3e-c18f-44d1-a182-078621800ac1"
   },
   "outputs": [],
   "source": [
    "car_sales.head()"
   ]
  },
  {
   "cell_type": "code",
   "execution_count": null,
   "metadata": {
    "colab": {
     "base_uri": "https://localhost:8080/",
     "height": 206
    },
    "id": "nQsoQOsf_TGN",
    "outputId": "bf12fb9c-12e3-4478-ba95-15fa40e4459f"
   },
   "outputs": [],
   "source": [
    "car_sales.tail()"
   ]
  },
  {
   "cell_type": "code",
   "execution_count": null,
   "metadata": {
    "colab": {
     "base_uri": "https://localhost:8080/"
    },
    "id": "cdGhO-hb_Yjy",
    "outputId": "c24dda13-bc2b-46f1-c1c2-141f10e28751"
   },
   "outputs": [],
   "source": [
    "car_sales.loc[5]"
   ]
  },
  {
   "cell_type": "code",
   "execution_count": null,
   "metadata": {
    "colab": {
     "base_uri": "https://localhost:8080/",
     "height": 35
    },
    "id": "kKht5XeO_hIm",
    "outputId": "e5ab0235-3472-46f5-8208-b6cd82ed2ca9"
   },
   "outputs": [],
   "source": [
    "car_sales['Make'].loc[5]"
   ]
  },
  {
   "cell_type": "code",
   "execution_count": null,
   "metadata": {
    "colab": {
     "base_uri": "https://localhost:8080/"
    },
    "id": "MCmCikp5_shX",
    "outputId": "f9f2e7a6-3f3e-4063-c460-c2664ba59e41"
   },
   "outputs": [],
   "source": [
    "car_sales.iloc[3]"
   ]
  },
  {
   "cell_type": "code",
   "execution_count": null,
   "metadata": {
    "colab": {
     "base_uri": "https://localhost:8080/",
     "height": 35
    },
    "id": "KR9QxGwj_we8",
    "outputId": "1cfbe49a-09a8-4539-e8aa-1f9c622680b3"
   },
   "outputs": [],
   "source": [
    "car_sales['Make'].iloc[5]"
   ]
  },
  {
   "cell_type": "markdown",
   "metadata": {
    "id": "ueJLuVvaKroe"
   },
   "source": [
    "# SECTION - 7 : Numpy"
   ]
  },
  {
   "cell_type": "markdown",
   "metadata": {
    "id": "B1H-pvBmNdTW"
   },
   "source": [
    "Numpy also known as Numerical python, is a computational library that works well with bytecodes by using vectorization. \n",
    "\n",
    "- Numpy is fast and its written in C Language\n",
    "- Its uses Vectorization via Broadcasting\n",
    "- Its the backbone of other Python Scientific Packages"
   ]
  },
  {
   "cell_type": "markdown",
   "metadata": {
    "id": "DCJ104bVOTmv"
   },
   "source": [
    "### What is covered in this section?\n",
    "- Most useful functions\n",
    "- NumPy datatypes and attributes\n",
    "- Creating Arrays \n",
    "- Viewing arrays and Matrices \n",
    "- Manipulating and Comparing Arrays \n",
    "- Sorting Arrays \n",
    "- Use Cases"
   ]
  },
  {
   "cell_type": "code",
   "execution_count": null,
   "metadata": {
    "id": "bB2MkuXQKqFA"
   },
   "outputs": [],
   "source": [
    "import numpy as np"
   ]
  },
  {
   "cell_type": "markdown",
   "metadata": {
    "id": "VUdLIS2gPRcD"
   },
   "source": [
    "DataTypes and Attributes\n",
    "\n",
    "- only one datatype - the ndarray\n",
    "\n",
    "Initializing a numpy array"
   ]
  },
  {
   "cell_type": "code",
   "execution_count": null,
   "metadata": {
    "id": "oZv-ALT2PQfr"
   },
   "outputs": [],
   "source": [
    "first_array = np.array([1,2,3])"
   ]
  },
  {
   "cell_type": "markdown",
   "metadata": {
    "id": "5eUtbtDxUku3"
   },
   "source": [
    "Finding the shape of the array"
   ]
  },
  {
   "cell_type": "code",
   "execution_count": null,
   "metadata": {
    "colab": {
     "base_uri": "https://localhost:8080/"
    },
    "id": "sS6T1Z5_UItV",
    "outputId": "89d1bb21-0143-4aaf-9f10-bb86c90f2156"
   },
   "outputs": [],
   "source": [
    "first_array.shape"
   ]
  },
  {
   "cell_type": "markdown",
   "metadata": {
    "id": "XVFDrk4sUmx2"
   },
   "source": [
    "Finding the dimension of the array"
   ]
  },
  {
   "cell_type": "code",
   "execution_count": null,
   "metadata": {
    "colab": {
     "base_uri": "https://localhost:8080/"
    },
    "id": "gK499Mu0UQl0",
    "outputId": "1f9b5947-4489-4858-9671-e3e9d21ec9c8"
   },
   "outputs": [],
   "source": [
    "first_array.ndim"
   ]
  },
  {
   "cell_type": "markdown",
   "metadata": {
    "id": "ywL1wpoyUqP_"
   },
   "source": [
    "Finding the type of the array"
   ]
  },
  {
   "cell_type": "code",
   "execution_count": null,
   "metadata": {
    "colab": {
     "base_uri": "https://localhost:8080/"
    },
    "id": "9QTRbQDHS3RC",
    "outputId": "27efc491-29c9-42a7-e5b4-4be07fe09d4d"
   },
   "outputs": [],
   "source": [
    "type(first_array)"
   ]
  },
  {
   "cell_type": "markdown",
   "metadata": {
    "id": "IQlgYXZ5VXTf"
   },
   "source": [
    "Creating a pandas dataframe using numpy "
   ]
  },
  {
   "cell_type": "code",
   "execution_count": null,
   "metadata": {
    "colab": {
     "base_uri": "https://localhost:8080/",
     "height": 143
    },
    "id": "GGru9eI5VWkz",
    "outputId": "ac8dca59-101b-43ed-a972-0ff6b3e20d92"
   },
   "outputs": [],
   "source": [
    "import pandas as pd \n",
    "\n",
    "df = pd.DataFrame(first_array)\n",
    "df"
   ]
  },
  {
   "cell_type": "markdown",
   "metadata": {
    "id": "v2TjJ8ylVquI"
   },
   "source": [
    "### Creating Numpy Arrays"
   ]
  },
  {
   "cell_type": "code",
   "execution_count": null,
   "metadata": {
    "id": "xav6PkkVVhK3"
   },
   "outputs": [],
   "source": [
    "sample_array = np.array([1,2,4])"
   ]
  },
  {
   "cell_type": "markdown",
   "metadata": {
    "id": "RqAj61WtV09F"
   },
   "source": [
    "Create an NP Array with only 1 as number "
   ]
  },
  {
   "cell_type": "code",
   "execution_count": null,
   "metadata": {
    "colab": {
     "base_uri": "https://localhost:8080/"
    },
    "id": "-iJm3YNLVxdn",
    "outputId": "27ea0cf5-37ac-4d9f-b1ba-fd23e934e8e9"
   },
   "outputs": [],
   "source": [
    "ones = np.ones((4,4))\n",
    "ones"
   ]
  },
  {
   "cell_type": "code",
   "execution_count": null,
   "metadata": {
    "colab": {
     "base_uri": "https://localhost:8080/"
    },
    "id": "X_Ahpl6LV64Q",
    "outputId": "5869a4b0-abc8-48ad-8c2f-6763d44dfb8e"
   },
   "outputs": [],
   "source": [
    "ones.dtype"
   ]
  },
  {
   "cell_type": "code",
   "execution_count": null,
   "metadata": {
    "colab": {
     "base_uri": "https://localhost:8080/"
    },
    "id": "2elrJtXVWJ_Y",
    "outputId": "47bb0a44-61f8-4604-bd44-e1b7d7c1f2de"
   },
   "outputs": [],
   "source": [
    "type(ones)"
   ]
  },
  {
   "cell_type": "code",
   "execution_count": null,
   "metadata": {
    "id": "t3LnSrgcW9ZK"
   },
   "outputs": [],
   "source": []
  },
  {
   "cell_type": "markdown",
   "metadata": {
    "id": "2un_Q_-dW8s9"
   },
   "source": [
    "Creating an Array of Zeroes with custom dimensions"
   ]
  },
  {
   "cell_type": "code",
   "execution_count": null,
   "metadata": {
    "colab": {
     "base_uri": "https://localhost:8080/"
    },
    "id": "tH8j1y5bWLqC",
    "outputId": "72fb49ad-3c01-4a06-9e94-9cb5b6501a8d"
   },
   "outputs": [],
   "source": [
    "zeros = np.zeros((4,4))\n",
    "zeros"
   ]
  },
  {
   "cell_type": "markdown",
   "metadata": {
    "id": "tE1NsSv7XCpe"
   },
   "source": [
    "Creating a numeric array with values and skippable numbers"
   ]
  },
  {
   "cell_type": "code",
   "execution_count": null,
   "metadata": {
    "colab": {
     "base_uri": "https://localhost:8080/"
    },
    "id": "tmv8xR_MWzNs",
    "outputId": "d73ccbb4-cf77-4747-fec9-cca3ab8358b9"
   },
   "outputs": [],
   "source": [
    "range_array = np.arange(0,10,2)\n",
    "range_array"
   ]
  },
  {
   "cell_type": "code",
   "execution_count": null,
   "metadata": {
    "colab": {
     "base_uri": "https://localhost:8080/"
    },
    "id": "XpXNGuu0XJBq",
    "outputId": "1ee0e215-0406-4047-a8ea-102ea7515f8f"
   },
   "outputs": [],
   "source": [
    "random_array = np.random.randint(0,10,size=(3,5))\n",
    "random_array"
   ]
  },
  {
   "cell_type": "code",
   "execution_count": null,
   "metadata": {
    "colab": {
     "base_uri": "https://localhost:8080/"
    },
    "id": "4JTBfDt7XpMJ",
    "outputId": "9f9a049f-159e-4ef8-e55f-38a748ae15f6"
   },
   "outputs": [],
   "source": [
    "random_array.size"
   ]
  },
  {
   "cell_type": "code",
   "execution_count": null,
   "metadata": {
    "colab": {
     "base_uri": "https://localhost:8080/"
    },
    "id": "Ng7js6cVYJrd",
    "outputId": "01860d6d-2e25-493d-8341-89d28413730b"
   },
   "outputs": [],
   "source": [
    "random_array.shape"
   ]
  },
  {
   "cell_type": "markdown",
   "metadata": {
    "id": "BelQTyiZd-L2"
   },
   "source": [
    "Creating a complete random array with random digits. Remember, `random.random()` will generate different numbers everytime. To avoid this we need to use the `random.seed()` function"
   ]
  },
  {
   "cell_type": "code",
   "execution_count": null,
   "metadata": {
    "colab": {
     "base_uri": "https://localhost:8080/"
    },
    "id": "iOIVrb4EYL6_",
    "outputId": "03831896-3504-4feb-820e-1430aa52e2c4"
   },
   "outputs": [],
   "source": [
    "rando_array = np.random.randint(10,size=(5,3))\n",
    "rando_array"
   ]
  },
  {
   "cell_type": "code",
   "execution_count": null,
   "metadata": {
    "colab": {
     "base_uri": "https://localhost:8080/"
    },
    "id": "ybgOiaEqd0j2",
    "outputId": "cd479a4e-14b7-4941-c56f-7431fe53b0c9"
   },
   "outputs": [],
   "source": [
    "np.random.seed(7)\n",
    "rando_array = np.random.randint(10,size=(5,3))\n",
    "rando_array"
   ]
  },
  {
   "cell_type": "markdown",
   "metadata": {
    "id": "Kpk9kZYiAAjE"
   },
   "source": [
    "### Viewing Arrays and Matrices"
   ]
  },
  {
   "cell_type": "markdown",
   "metadata": {
    "id": "bzQQ9pU5AZpC"
   },
   "source": [
    "You could use the np.unique() to find unique numbers within a matrices"
   ]
  },
  {
   "cell_type": "code",
   "execution_count": null,
   "metadata": {
    "colab": {
     "base_uri": "https://localhost:8080/"
    },
    "id": "c6kwJnSnAC3Y",
    "outputId": "8e8bc6d4-1f3c-4259-8df2-e4e7c060e01d"
   },
   "outputs": [],
   "source": [
    "np.unique(rando_array)"
   ]
  },
  {
   "cell_type": "markdown",
   "metadata": {
    "id": "3KM0X4X0AgNz"
   },
   "source": [
    "Accessing elements in a matrix. Use the index to access them "
   ]
  },
  {
   "cell_type": "code",
   "execution_count": null,
   "metadata": {
    "colab": {
     "base_uri": "https://localhost:8080/"
    },
    "id": "ER5LrO6EAkIL",
    "outputId": "eb232b27-5134-4c3a-8235-c33ba5139931"
   },
   "outputs": [],
   "source": [
    "rando_array[1]"
   ]
  },
  {
   "cell_type": "code",
   "execution_count": null,
   "metadata": {
    "colab": {
     "base_uri": "https://localhost:8080/"
    },
    "id": "Pf9ObcNBAfea",
    "outputId": "abffd2b7-0dd1-40b3-c1c5-5f4d4cb42a66"
   },
   "outputs": [],
   "source": [
    "rando_array[0]"
   ]
  },
  {
   "cell_type": "markdown",
   "metadata": {
    "id": "Er_UVtDcBAG8"
   },
   "source": [
    "Similar to slicing of a python list, you could use the colon to get values in np array"
   ]
  },
  {
   "cell_type": "code",
   "execution_count": null,
   "metadata": {
    "colab": {
     "base_uri": "https://localhost:8080/"
    },
    "id": "Zjkx1j09At7x",
    "outputId": "f8ebaa47-8245-4d90-a0fd-ee0e66aa8888"
   },
   "outputs": [],
   "source": [
    "rando_array[:1,:1]"
   ]
  },
  {
   "cell_type": "code",
   "execution_count": null,
   "metadata": {
    "id": "RTfGsGfYBfcX"
   },
   "outputs": [],
   "source": []
  },
  {
   "cell_type": "markdown",
   "metadata": {
    "id": "HpYtQLx6Bepz"
   },
   "source": [
    "Generating a new array to check on the functions"
   ]
  },
  {
   "cell_type": "code",
   "execution_count": null,
   "metadata": {
    "colab": {
     "base_uri": "https://localhost:8080/"
    },
    "id": "RddjPdAdBJPp",
    "outputId": "f5fef5ee-3a8b-42f4-bdf6-d6086f4ecd66"
   },
   "outputs": [],
   "source": [
    "a4 = np.random.randint(10,size=(2,3,4,5))\n",
    "a4"
   ]
  },
  {
   "cell_type": "code",
   "execution_count": null,
   "metadata": {
    "colab": {
     "base_uri": "https://localhost:8080/"
    },
    "id": "08EZxmQgBnV7",
    "outputId": "85ab8a0a-e63c-4856-aae4-b8bedde0dc42"
   },
   "outputs": [],
   "source": [
    "a4.shape"
   ]
  },
  {
   "cell_type": "code",
   "execution_count": null,
   "metadata": {
    "colab": {
     "base_uri": "https://localhost:8080/"
    },
    "id": "zToxFtQrBaYc",
    "outputId": "c41c3379-c954-4564-f6c1-0a93162f7991"
   },
   "outputs": [],
   "source": [
    "a4.ndim"
   ]
  },
  {
   "cell_type": "markdown",
   "metadata": {
    "id": "S7XKxZ-tBxSY"
   },
   "source": [
    "Get the first 4 numbers of the inner most array"
   ]
  },
  {
   "cell_type": "code",
   "execution_count": null,
   "metadata": {
    "colab": {
     "base_uri": "https://localhost:8080/"
    },
    "id": "KrV7c8nfBb6h",
    "outputId": "96e0de80-a417-479a-c0b2-4ef7e940a66b"
   },
   "outputs": [],
   "source": [
    "a4[:,:,:,:2]"
   ]
  },
  {
   "cell_type": "markdown",
   "metadata": {
    "id": "LA0YmjJKCBPy"
   },
   "source": [
    "## Manipulating and Comparing Arrays\n"
   ]
  },
  {
   "cell_type": "code",
   "execution_count": null,
   "metadata": {
    "id": "H7OXqYDCCb1A"
   },
   "outputs": [],
   "source": [
    "#Arithematic\n",
    "ones = np.ones(3)"
   ]
  },
  {
   "cell_type": "code",
   "execution_count": null,
   "metadata": {
    "colab": {
     "base_uri": "https://localhost:8080/"
    },
    "id": "YyhDi1EfCFno",
    "outputId": "bd2a4cc7-e332-4bd6-ff5a-4c712b1c05d1"
   },
   "outputs": [],
   "source": [
    "sample_array + ones"
   ]
  },
  {
   "cell_type": "code",
   "execution_count": null,
   "metadata": {
    "colab": {
     "base_uri": "https://localhost:8080/"
    },
    "id": "lr0oaEpOCoFI",
    "outputId": "0c8e6630-2f2d-4bf0-b209-ac7136dc8482"
   },
   "outputs": [],
   "source": [
    "sample_array - ones"
   ]
  },
  {
   "cell_type": "code",
   "execution_count": null,
   "metadata": {
    "colab": {
     "base_uri": "https://localhost:8080/"
    },
    "id": "Zqra8G0VCrFq",
    "outputId": "a0e2d621-0f6b-456f-8019-535af46d72c8"
   },
   "outputs": [],
   "source": [
    "sample_array * ones"
   ]
  },
  {
   "cell_type": "code",
   "execution_count": null,
   "metadata": {
    "colab": {
     "base_uri": "https://localhost:8080/"
    },
    "id": "JQhgTT9SCvWt",
    "outputId": "23b1657a-d81c-4be9-b2cb-da3641a9da71"
   },
   "outputs": [],
   "source": [
    "sample_array / ones"
   ]
  },
  {
   "cell_type": "code",
   "execution_count": null,
   "metadata": {
    "colab": {
     "base_uri": "https://localhost:8080/"
    },
    "id": "7ImSHIr_CxvD",
    "outputId": "2dd1f03c-0f81-46ef-a65c-6f35e6567899"
   },
   "outputs": [],
   "source": [
    "a4 * 5"
   ]
  },
  {
   "cell_type": "code",
   "execution_count": null,
   "metadata": {
    "colab": {
     "base_uri": "https://localhost:8080/"
    },
    "id": "qUZOL-wKDC-w",
    "outputId": "9ec56a99-814c-40a0-a22d-bc98773a41e8"
   },
   "outputs": [],
   "source": [
    "a4 / 5"
   ]
  },
  {
   "cell_type": "code",
   "execution_count": null,
   "metadata": {
    "colab": {
     "base_uri": "https://localhost:8080/"
    },
    "id": "O1mkeOgIEB42",
    "outputId": "2372d076-1574-4488-80dc-1a0b48a31580"
   },
   "outputs": [],
   "source": [
    "a4 // 5"
   ]
  },
  {
   "cell_type": "code",
   "execution_count": null,
   "metadata": {
    "colab": {
     "base_uri": "https://localhost:8080/"
    },
    "id": "eOcJfhKREI0S",
    "outputId": "2572aa90-36b5-4cb0-b8b4-a7d3a9cd7d57"
   },
   "outputs": [],
   "source": [
    "a4 ** 2"
   ]
  },
  {
   "cell_type": "markdown",
   "metadata": {
    "id": "1yAVji1KEYUt"
   },
   "source": [
    "You could also use the square function"
   ]
  },
  {
   "cell_type": "code",
   "execution_count": null,
   "metadata": {
    "colab": {
     "base_uri": "https://localhost:8080/"
    },
    "id": "glePKvMIEOo7",
    "outputId": "9140aaa2-d5bc-4bbf-de6c-d185ec4ba7e8"
   },
   "outputs": [],
   "source": [
    "np.square(a4)"
   ]
  },
  {
   "cell_type": "code",
   "execution_count": null,
   "metadata": {
    "colab": {
     "base_uri": "https://localhost:8080/"
    },
    "id": "2eVVBnncEe6I",
    "outputId": "978250c4-d820-4f2a-c530-02c5423432e8"
   },
   "outputs": [],
   "source": [
    "a4 % 2"
   ]
  },
  {
   "cell_type": "markdown",
   "metadata": {
    "id": "aR9B2qqLE5P4"
   },
   "source": [
    "## Manipulating Part 2\n",
    "\n",
    "Aggregating values in `np.arrays`\n",
    "Remember : You could use both python and numpy aggregation methods. Ensure to use only numpy aggregation functions to aggregate values in np.array datatype"
   ]
  },
  {
   "cell_type": "code",
   "execution_count": null,
   "metadata": {
    "colab": {
     "base_uri": "https://localhost:8080/"
    },
    "id": "4J8YZsFWEhAI",
    "outputId": "10ace75c-f971-4db1-f4d1-194694abcda0"
   },
   "outputs": [],
   "source": [
    "sum(a4)"
   ]
  },
  {
   "cell_type": "code",
   "execution_count": null,
   "metadata": {
    "colab": {
     "base_uri": "https://localhost:8080/"
    },
    "id": "I1I7Qa29FRLi",
    "outputId": "61b7e358-0e85-4121-ef6f-9da3d6d35d44"
   },
   "outputs": [],
   "source": [
    "np.sum(a4)"
   ]
  },
  {
   "cell_type": "markdown",
   "metadata": {
    "id": "q0a2NcjqF035"
   },
   "source": [
    "Creating a massive array"
   ]
  },
  {
   "cell_type": "code",
   "execution_count": null,
   "metadata": {
    "colab": {
     "base_uri": "https://localhost:8080/"
    },
    "id": "Q9qaAoE_Fbxr",
    "outputId": "4f496eac-8f4a-4baf-dc2b-b3e76eb9d265"
   },
   "outputs": [],
   "source": [
    "massive_array = np.random.random(100000)\n",
    "massive_array.size"
   ]
  },
  {
   "cell_type": "code",
   "execution_count": null,
   "metadata": {
    "colab": {
     "base_uri": "https://localhost:8080/"
    },
    "id": "bmWhGYVWFzzd",
    "outputId": "426f8791-e3d0-4515-b0c6-30a0a7133331"
   },
   "outputs": [],
   "source": [
    "massive_array[:10]"
   ]
  },
  {
   "cell_type": "markdown",
   "metadata": {
    "id": "SSI8XHLgGZRK"
   },
   "source": [
    "On using a python sum function, we observe that the calculation took 8 Milliseconds"
   ]
  },
  {
   "cell_type": "code",
   "execution_count": null,
   "metadata": {
    "colab": {
     "base_uri": "https://localhost:8080/"
    },
    "id": "GoCu2N67GAUA",
    "outputId": "adc67644-f021-49e0-8ce3-b75fe41a7354"
   },
   "outputs": [],
   "source": [
    "%timeit sum(massive_array)"
   ]
  },
  {
   "cell_type": "markdown",
   "metadata": {
    "id": "C7R9p_NGGeSl"
   },
   "source": [
    "However the np sum took only 45 microseconds which is 1000 times lower compared to python function. "
   ]
  },
  {
   "cell_type": "code",
   "execution_count": null,
   "metadata": {
    "colab": {
     "base_uri": "https://localhost:8080/"
    },
    "id": "tXtac90OGD_n",
    "outputId": "05011538-aeb2-478c-f732-24e1378b953c"
   },
   "outputs": [],
   "source": [
    "%timeit np.sum(massive_array)"
   ]
  },
  {
   "cell_type": "markdown",
   "metadata": {
    "id": "8JLroaxNGxhZ"
   },
   "source": [
    "Finding the standard deviation and Variance"
   ]
  },
  {
   "cell_type": "markdown",
   "metadata": {
    "id": "DCUuxl_XG8eR"
   },
   "source": [
    "Standard Deviation : Its a measure of how spread out a group of numbers is from Its mean value"
   ]
  },
  {
   "cell_type": "code",
   "execution_count": null,
   "metadata": {
    "colab": {
     "base_uri": "https://localhost:8080/"
    },
    "id": "qFoHPysgGJSQ",
    "outputId": "870bd4bf-8a4d-4e10-b753-a0c85ba71d63"
   },
   "outputs": [],
   "source": [
    "np.std(a4)"
   ]
  },
  {
   "cell_type": "markdown",
   "metadata": {
    "id": "L4-I26StHEeL"
   },
   "source": [
    "**Variance**: Its a measure of the average degree to which each number is different to the mean\n",
    " - **higher variance** :  wide range of numbers\n",
    " - **lower variance**  :  lower range of numbers"
   ]
  },
  {
   "cell_type": "code",
   "execution_count": null,
   "metadata": {
    "colab": {
     "base_uri": "https://localhost:8080/"
    },
    "id": "V6DKU9lcHEDq",
    "outputId": "5eae2135-e5ff-48f3-9cee-f297c3a62a54"
   },
   "outputs": [],
   "source": [
    "np.var(a4)"
   ]
  },
  {
   "cell_type": "markdown",
   "metadata": {
    "id": "n5-sBtf0HmVR"
   },
   "source": [
    "Standard Deviation is the square root of variance"
   ]
  },
  {
   "cell_type": "code",
   "execution_count": null,
   "metadata": {
    "colab": {
     "base_uri": "https://localhost:8080/"
    },
    "id": "kS2LaDcQHj2a",
    "outputId": "41b5fc9a-4ccf-462c-a3cb-be9d5f7238dc"
   },
   "outputs": [],
   "source": [
    "np.sqrt(np.var(a4))"
   ]
  },
  {
   "cell_type": "markdown",
   "metadata": {
    "id": "4W-I8qpTI9wn"
   },
   "source": [
    "**Standard Deviation and Variance**\n",
    "\n",
    "We would be deep diving into what is standard deviation and variance"
   ]
  },
  {
   "cell_type": "code",
   "execution_count": null,
   "metadata": {
    "id": "fHnZZH23JHPh"
   },
   "outputs": [],
   "source": [
    "high_var_array = np.array([1,100,200,300,4000,50000])\n",
    "low_var_array = np.array([2,4,5,6,8,10])"
   ]
  },
  {
   "cell_type": "code",
   "execution_count": null,
   "metadata": {
    "colab": {
     "base_uri": "https://localhost:8080/"
    },
    "id": "F2bV9SZMiAqB",
    "outputId": "30a280c6-9957-44cf-fa0b-83e33ca91874"
   },
   "outputs": [],
   "source": [
    "np.var(high_var_array), np.var(low_var_array)"
   ]
  },
  {
   "cell_type": "code",
   "execution_count": null,
   "metadata": {
    "colab": {
     "base_uri": "https://localhost:8080/"
    },
    "id": "aP6KLqZ6iX9Y",
    "outputId": "5fd8ce90-87ff-4b9b-f316-e59f15f6698f"
   },
   "outputs": [],
   "source": [
    "np.std(high_var_array), np.std(low_var_array)"
   ]
  },
  {
   "cell_type": "code",
   "execution_count": null,
   "metadata": {
    "colab": {
     "base_uri": "https://localhost:8080/"
    },
    "id": "94dQMmt_is0F",
    "outputId": "0415a36a-2132-4bf6-8e05-4ede9b3cb79f"
   },
   "outputs": [],
   "source": [
    "np.mean(high_var_array), np.mean(low_var_array)"
   ]
  },
  {
   "cell_type": "code",
   "execution_count": null,
   "metadata": {
    "colab": {
     "base_uri": "https://localhost:8080/",
     "height": 430
    },
    "id": "9tbDhuCJiyOj",
    "outputId": "2e59549f-6be6-4d30-9684-0100c79e820b"
   },
   "outputs": [],
   "source": [
    "%matplotlib inline\n",
    "import matplotlib.pyplot as plt \n",
    "\n",
    "plt.hist(high_var_array)\n",
    "plt.show()"
   ]
  },
  {
   "cell_type": "code",
   "execution_count": null,
   "metadata": {
    "colab": {
     "base_uri": "https://localhost:8080/",
     "height": 430
    },
    "id": "XkTljO22jLh8",
    "outputId": "da0f4290-df9f-47fe-a5e3-b6e9b6bcb54b"
   },
   "outputs": [],
   "source": [
    "plt.hist(low_var_array)\n",
    "plt.show()"
   ]
  },
  {
   "cell_type": "markdown",
   "metadata": {
    "id": "ZPZ3AJCazZxS"
   },
   "source": [
    "## Reshaping and Transponsing NumPy Arrays"
   ]
  },
  {
   "cell_type": "code",
   "execution_count": null,
   "metadata": {
    "colab": {
     "base_uri": "https://localhost:8080/"
    },
    "id": "EAYNIikljQo1",
    "outputId": "ed2bf701-22b1-4a5b-d79b-950224358c62"
   },
   "outputs": [],
   "source": [
    "a4"
   ]
  },
  {
   "cell_type": "code",
   "execution_count": null,
   "metadata": {
    "colab": {
     "base_uri": "https://localhost:8080/"
    },
    "id": "CHMAzaNuzgWt",
    "outputId": "b74cfd63-973f-46e7-e029-ac33f23f0a22"
   },
   "outputs": [],
   "source": [
    "a4.T"
   ]
  },
  {
   "cell_type": "markdown",
   "metadata": {
    "id": "gFFeZnK9lgRy"
   },
   "source": [
    "### Reshaping Arrays\n",
    "\n",
    "Arrays such as 1 dimensional Array could be reshaped to form a new array. \n",
    "Here is an example for the same"
   ]
  },
  {
   "cell_type": "code",
   "execution_count": null,
   "metadata": {
    "id": "4quVjOdi0Bw1"
   },
   "outputs": [],
   "source": [
    "import numpy as np\n",
    "arr = np.array([1, 2, 3, 4, 5, 6])"
   ]
  },
  {
   "cell_type": "code",
   "execution_count": null,
   "metadata": {
    "colab": {
     "base_uri": "https://localhost:8080/"
    },
    "id": "KXF9r5cllsrb",
    "outputId": "a85a1b37-3ad8-4440-94e8-3cb99c257d0f"
   },
   "outputs": [],
   "source": [
    "new_arr = arr.reshape(2, 3)\n",
    "new_arr"
   ]
  },
  {
   "cell_type": "markdown",
   "metadata": {
    "id": "mwvmzk-FmSTV"
   },
   "source": [
    "### Transposing Arrays\n",
    "\n",
    "Using the transpose option you could transpose your numpy matrix. "
   ]
  },
  {
   "cell_type": "code",
   "execution_count": null,
   "metadata": {
    "colab": {
     "base_uri": "https://localhost:8080/"
    },
    "id": "CG2ovBnzmN17",
    "outputId": "8316e9fc-0de1-4849-f123-69d21e310e47"
   },
   "outputs": [],
   "source": [
    "import numpy as np\n",
    "\n",
    "# Create a 2D array\n",
    "arr = np.array([[1, 2, 3], [4, 5, 6]])\n",
    "\n",
    "# Transpose the array\n",
    "arr_transpose = arr.T\n",
    "arr_transpose"
   ]
  },
  {
   "cell_type": "code",
   "execution_count": null,
   "metadata": {
    "colab": {
     "base_uri": "https://localhost:8080/"
    },
    "id": "RbbobFKKmvQ2",
    "outputId": "71d41228-5517-4849-f872-a7078db3f6b9"
   },
   "outputs": [],
   "source": [
    "arr = np.array([1, 2, 3])\n",
    "arr_transpose = arr.T  # This will return [1, 2, 3] since there are no rows or columns to swap\n",
    "arr_transpose"
   ]
  },
  {
   "cell_type": "markdown",
   "metadata": {
    "id": "NbAO-4dfnetH"
   },
   "source": [
    "### Dot Product vs Element Wise Calculation in Matrix\n",
    "\n",
    "- Remember, dot product is not direct multiplication. It would be a sum of 2 arrays.\n",
    "- In the below case you get multiplication and addition done simultaneously like this. ```[1 * 4]+[2 * 5]+[3 * 6] = 32``` which is the dot multiplication product of 2 matrices. \n",
    "- use the ```np.dot(matrix_a, matrix_b)``` to compute dot product of 2 matrices\n",
    "- **Remember** : Dot Product works only for arrays with same shape. If you try to multiply with different shapes you will encounter error. In this case you could try transposing or re-shaping your matrix to try calculating provided the same remains the same"
   ]
  },
  {
   "cell_type": "code",
   "execution_count": null,
   "metadata": {
    "colab": {
     "base_uri": "https://localhost:8080/"
    },
    "id": "1HBTWY2Cm3DW",
    "outputId": "b176dd84-342d-45c8-9f0c-54cb208f61f5"
   },
   "outputs": [],
   "source": [
    "import numpy as np\n",
    "\n",
    "# Create two arrays\n",
    "A = np.array([1, 2, 3])\n",
    "B = np.array([4, 5, 6])\n",
    "\n",
    "# Compute the dot product of A and B\n",
    "dot_product = np.dot(A, B)\n",
    "\n",
    "print(dot_product)  # Output: 32"
   ]
  },
  {
   "cell_type": "markdown",
   "metadata": {
    "id": "4hWvHorFr4Jw"
   },
   "source": [
    "### Calculating the sales of NutButter using NumPy\n",
    "\n",
    "- lets checkout this syntax and see how its working."
   ]
  },
  {
   "cell_type": "code",
   "execution_count": null,
   "metadata": {
    "colab": {
     "base_uri": "https://localhost:8080/"
    },
    "id": "kIigyrUOsFWU",
    "outputId": "ca617d7e-c6b6-4bb2-f24c-dbade5ad5b44"
   },
   "outputs": [],
   "source": [
    "np.random.seed(0)\n",
    "sales_amount = np.random.randint(20,size=(5,3))\n",
    "sales_amount"
   ]
  },
  {
   "cell_type": "code",
   "execution_count": null,
   "metadata": {
    "colab": {
     "base_uri": "https://localhost:8080/",
     "height": 206
    },
    "id": "1i9XXA3GsNcb",
    "outputId": "b20edd64-4f0b-43fd-f5f5-356f528ce6af"
   },
   "outputs": [],
   "source": [
    "weekly_sales = pd.DataFrame(sales_amount, index=['Mon','Tues','Wed','Thurs','Fri'],columns=['Almond','Peanut','Cashew'])\n",
    "weekly_sales"
   ]
  },
  {
   "cell_type": "code",
   "execution_count": null,
   "metadata": {
    "id": "RuOjGkgdsiY3"
   },
   "outputs": [],
   "source": [
    "prices = np.array([10,8,12])"
   ]
  },
  {
   "cell_type": "code",
   "execution_count": null,
   "metadata": {
    "colab": {
     "base_uri": "https://localhost:8080/",
     "height": 81
    },
    "id": "yT11YlcTszvk",
    "outputId": "8905015f-987c-4dd1-be88-428230d02b12"
   },
   "outputs": [],
   "source": [
    "butter_prices = pd.DataFrame(prices.reshape(1,3),index=['Prices'], columns=['Almond','Peanut','Cashew'])\n",
    "butter_prices"
   ]
  },
  {
   "cell_type": "code",
   "execution_count": null,
   "metadata": {
    "colab": {
     "base_uri": "https://localhost:8080/"
    },
    "id": "2NN0RbJBtHcO",
    "outputId": "fb93fa30-b598-4af6-9c5e-de91901a91c8"
   },
   "outputs": [],
   "source": [
    "total_sales = prices.dot(sales_amount.T)\n",
    "total_sales"
   ]
  },
  {
   "cell_type": "code",
   "execution_count": null,
   "metadata": {
    "colab": {
     "base_uri": "https://localhost:8080/",
     "height": 81
    },
    "id": "7YfpZiAYuOuD",
    "outputId": "889e65cd-d255-4a99-b64e-d1c2a9b77112"
   },
   "outputs": [],
   "source": [
    "butter_prices"
   ]
  },
  {
   "cell_type": "code",
   "execution_count": null,
   "metadata": {
    "colab": {
     "base_uri": "https://localhost:8080/",
     "height": 81
    },
    "id": "blu45toFvzFl",
    "outputId": "67856f2d-225a-4004-ea0b-841414e990de"
   },
   "outputs": [],
   "source": [
    "daily_sales = butter_prices.dot(weekly_sales.T)\n",
    "daily_sales"
   ]
  },
  {
   "cell_type": "code",
   "execution_count": null,
   "metadata": {
    "colab": {
     "base_uri": "https://localhost:8080/",
     "height": 206
    },
    "id": "_f3w4IivweBV",
    "outputId": "70c7195f-2ffd-43cc-b247-5a441cf89ca6"
   },
   "outputs": [],
   "source": [
    "weekly_sales['Total in Dollars($)'] = daily_sales.T\n",
    "weekly_sales"
   ]
  },
  {
   "cell_type": "code",
   "execution_count": null,
   "metadata": {
    "id": "zj-wOlewwmrF"
   },
   "outputs": [],
   "source": [
    "A > B"
   ]
  },
  {
   "cell_type": "code",
   "execution_count": null,
   "metadata": {},
   "outputs": [],
   "source": []
  }
 ],
 "metadata": {
  "colab": {
   "authorship_tag": "ABX9TyMA83I85O3RhrQWUJku5EE8",
   "include_colab_link": true,
   "mount_file_id": "1uO7IpD0RHfNSOSWPSMqqfaEChWzOeIcM",
   "provenance": []
  },
  "kernelspec": {
   "display_name": "Python 3 (ipykernel)",
   "language": "python",
   "name": "python3"
  },
  "language_info": {
   "codemirror_mode": {
    "name": "ipython",
    "version": 3
   },
   "file_extension": ".py",
   "mimetype": "text/x-python",
   "name": "python",
   "nbconvert_exporter": "python",
   "pygments_lexer": "ipython3",
   "version": "3.10.7"
  }
 },
 "nbformat": 4,
 "nbformat_minor": 1
}
