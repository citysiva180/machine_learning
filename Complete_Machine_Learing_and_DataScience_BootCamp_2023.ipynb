{
  "nbformat": 4,
  "nbformat_minor": 0,
  "metadata": {
    "colab": {
      "provenance": [],
      "authorship_tag": "ABX9TyO//SZLycgB7IF5AoGWAReV",
      "include_colab_link": true
    },
    "kernelspec": {
      "name": "python3",
      "display_name": "Python 3"
    },
    "language_info": {
      "name": "python"
    }
  },
  "cells": [
    {
      "cell_type": "markdown",
      "metadata": {
        "id": "view-in-github",
        "colab_type": "text"
      },
      "source": [
        "<a href=\"https://colab.research.google.com/github/citysiva180/machine_learning/blob/main/Complete_Machine_Learing_and_DataScience_BootCamp_2023.ipynb\" target=\"_parent\"><img src=\"https://colab.research.google.com/assets/colab-badge.svg\" alt=\"Open In Colab\"/></a>"
      ]
    },
    {
      "cell_type": "markdown",
      "source": [
        "# SECTION - 1 : Introduction to Machine Learning\n",
        "---\n",
        "In this comprehensive course, we would be going through a n number of machine learning topics and how the ML. algorithm works. There is going to be plenty of hands on and collaboration with fellow engineers to do analytics via machine learning"
      ],
      "metadata": {
        "id": "Ygpvqcv4PZkR"
      }
    },
    {
      "cell_type": "markdown",
      "source": [
        "### What is Machine Learning? \n",
        "\n",
        "Machine learning refers to a branch of artificial intelligence (AI) that involves training computer systems to automatically improve their performance on a specific task by using large amounts of data, without being explicitly programmed.\n",
        "\n"
      ],
      "metadata": {
        "id": "EwaCg4g1P4-D"
      }
    },
    {
      "cell_type": "markdown",
      "source": [
        "## AI vs Machine Learning vs Data Science \n",
        "\n",
        "- **AI** - Meaning Human Intelligence recreated artificially to deliver activities done by humans. \n",
        "- **Narrow AI** - Sometimes AI could deliver better than Humans. These are Narrow AI. Narrow AI simply means it does 1 task at a time exceptionally well \n",
        "- **General AI** - An AI which could do any task superbly! The ultimate end goal of machine learning is to get to this General AI. General AI Still Does not Exists\n",
        "- **Machine Learning** - Its Subset of AI and Its an Approach to try and achieve artifical Intelligence through systems that can find patterns in a set of data. The science of getting computer to act without developing programs\n",
        "- **Deeplearning** - Its one of the technique to implement machine learning\n",
        "- **Data Science** - Its a science of Analysing Data. It overlaps with Data Science"
      ],
      "metadata": {
        "id": "daKr9BLiQbvx"
      }
    },
    {
      "cell_type": "markdown",
      "source": [
        "## Types of Machine Learning\n",
        "\n",
        "- **Supervised**: Data is already labelled. CSV files and other organized files. Classification is easy with linear regression. A classic example is stock prices. \n",
        "- **Unsupervised** : Data which does not have label comes to unsupervised learning. Hence we give attribute points so we are able to distinguish data \n",
        "- **Reinforcement Learning:** Its all about teaching machines with trial and error by providing rewards and punishment. These include Neural Networks, Decision Trees, Vector Machines and K-Nearest Neighbours"
      ],
      "metadata": {
        "id": "6LNFnoCP_BUS"
      }
    },
    {
      "cell_type": "markdown",
      "source": [
        "## Machine Learning Round 2 \n",
        "\n",
        "**How is Machine Learning different from Regular Algorithm?**\n",
        "\n",
        "In a Normal Algorithm you give the input, algorithm / steps and output so you get the desired output. Meanwhile in a machine Learning algorithm you give the ideal input and the idea output so the algorithm does the learning and identifies the best way to get the output. This trial and run happens for multiple times until the ideal output is achieve"
      ],
      "metadata": {
        "id": "OBrw32iSBYNX"
      }
    },
    {
      "cell_type": "markdown",
      "source": [
        "# SECTION - 2 :Introduction to Machine Learning\n",
        "---\n",
        "\n",
        "- Data Collection : Collection of data\n",
        "- Data Modelling  : Creating a data and passing it to a ML model and traning it \n",
        "- Deploymentc     : Deploying the model in a cloud based environment\n",
        "\n",
        "*Mostly Machine Learning Engineers Work on Data Modelling*\n",
        "\n",
        "\n",
        "\n",
        "\n",
        "- Step - 1 : Creating a framework \n",
        "- Step - 2 : Machine the framework with an ML algorithms \n",
        "- Step - 3 : Learn "
      ],
      "metadata": {
        "id": "MlVzQsOYDuYc"
      }
    },
    {
      "cell_type": "markdown",
      "source": [
        "### The ML framework Used in this ZTM Course\n",
        "\n",
        "To ensure we are learning deep in machine learning please find the \n",
        "detailed steps we should follow to learn / build ML models \n",
        "\n",
        "1. **Problem Definition**:  What is the problem and the reason for approaching ML for it? What algorithm should be used to make this problem resolved? These are the kinds of attributes which come in this problem definition\n",
        "\n",
        "2. **Data** : Data becomes the requirement for machine learning. Now there are different types of data, which could be structured or unstructured. Once we know which data to use, we could proceed with evaluation\n",
        "\n",
        "3. **Evaluation** : We evaluate if the data is fit for our purpose. We also identify if the data brings the outcome expected for us. \n",
        "  \n",
        "4. **Features** : What is known is considered a feature. For example, in case of predicting heart disease body weight becomes and attribute to decide. This is numerical in nature. Hence it comes numerical feature to evaluate heart disease. Similar to weight, blood pressure and other Numerical features could be used to identify patterns of occurance which will help in predicting values\n",
        "\n",
        "5. **Modelling** : Based on our problem, we choose the modelling. Modelling directly talks about ML models. In most cases the model is already built and sometimes you get pre-trained ML models which will predict data for you. So the idea is to choose the right model \n",
        "\n",
        "6. **Experimentation** : How could we improve this model to deliver better results to us? By experimenting with the ML model we could identify insights which would help us on the longer run!\n"
      ],
      "metadata": {
        "id": "4PjITVTrEe07"
      }
    },
    {
      "cell_type": "markdown",
      "source": [
        "## Deep diving into these Individual Steps! \n",
        "\n",
        "**Remember:** Machine learning is not the solution for everything!\n",
        "\n",
        "Some important points you need to know about supervised learning \n",
        "\n",
        "**Supervised Learning Types**\n",
        "\n",
        "- Labels help in correct the incorrect output of the algorithm\n",
        "- This act of correction by itself is called the supervised learning.\n",
        "- The Main Types of Supervised learning include \n",
        "    - **Regression** : Regression is basically predicting continous values. There is no categorical classification in this. Its prediction based on existing values.    \n",
        "    - **Classification** : Its basically deciding a value based on a category. If there are 2 values, then its a binary classification. If there are more than 2 values then its a Multi-class classification\n",
        "\n",
        "**Unsupervised Learning** : In Unsupervised Machine Learning you label the data. And the pattern is identified by the Machine Learning Algorithms. Now this algorithm or this learning will predict data based on what is already exists. \n",
        "\n",
        "**Transfer learning** : Its one machine learning model learning from another machine learning model. For this.. You use a model that has the knowledge previously in this case.  \n",
        "\n",
        "**Reinforced Learning** : Keeping score points and updating as +1 or -1 on successfull and failed outcomes. This forms a reward and punishment based system to narrow down on a ideal output\n"
      ],
      "metadata": {
        "id": "2qVZSL6XJx1S"
      }
    },
    {
      "cell_type": "markdown",
      "source": [
        "## Types Of Data\n",
        "\n",
        "The very basic types of Data are \n",
        "- Structured  - Comes in a structure like tables of rows and columns\n",
        "- Unstructured Data - Could be random like a picture, or a video \n",
        "\n",
        "Both Structured and Unstructured datas have \n",
        "- Static Data  - Finite data | Does not changes with time \n",
        "- Streaming Data - Continual data | Changes over time "
      ],
      "metadata": {
        "id": "w_ogYzYFcrB0"
      }
    },
    {
      "cell_type": "markdown",
      "source": [
        "## Types of Evaluation\n",
        "\n",
        "Classification\n",
        "\n",
        "  - Accuracy \n",
        "  - Precision\n",
        "  - Recall\n",
        "\n",
        "Regression\n",
        "\n",
        "  - Mean Absolute Error \n",
        "  - Mean Squared Error \n",
        "  - Root Mean Squared Error \n",
        "\n",
        "Recommendation\n",
        "\n",
        "  - Mean Squares K"
      ],
      "metadata": {
        "id": "P98x4ilGg92H"
      }
    },
    {
      "cell_type": "markdown",
      "source": [
        "## Features in Machine Learning\n",
        "\n",
        "\n",
        "Attributes of data which are used to decide on prediction are the features of the data. Features could be categorical or numerical.\n",
        "\n",
        "- **Categorical**: Could be binary or Multi Category but its simply the classification of data into a certain goal \n",
        "- **Numerical** : Data is number based and could be easily used to bring out metrics of the data and even be used to predict number values\n",
        "- **Derived** : You gain data by the use of 2 data. \n",
        "\n",
        "Feature Covered : Assuming that you take a big data sample, if the sample values are all the same then its an ideal sample. In a mixture of data "
      ],
      "metadata": {
        "id": "CQEx2frwi7Ef"
      }
    },
    {
      "cell_type": "code",
      "execution_count": null,
      "metadata": {
        "id": "bVEtKUmWPNMi"
      },
      "outputs": [],
      "source": []
    }
  ]
}